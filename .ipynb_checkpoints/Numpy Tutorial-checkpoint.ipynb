{
 "cells": [
  {
   "cell_type": "code",
   "execution_count": 1,
   "id": "exact-chile",
   "metadata": {},
   "outputs": [],
   "source": [
    "import numpy as np"
   ]
  },
  {
   "cell_type": "code",
   "execution_count": 2,
   "id": "rental-paragraph",
   "metadata": {},
   "outputs": [
    {
     "name": "stdout",
     "output_type": "stream",
     "text": [
      "Hello World\n"
     ]
    }
   ],
   "source": [
    "print(\"Hello World\")"
   ]
  },
  {
   "cell_type": "code",
   "execution_count": 3,
   "id": "recent-myrtle",
   "metadata": {},
   "outputs": [],
   "source": [
    "i=45"
   ]
  },
  {
   "cell_type": "code",
   "execution_count": 4,
   "id": "linear-probe",
   "metadata": {},
   "outputs": [
    {
     "name": "stdout",
     "output_type": "stream",
     "text": [
      "7\n"
     ]
    }
   ],
   "source": [
    "print(7)"
   ]
  },
  {
   "cell_type": "code",
   "execution_count": 5,
   "id": "grand-implementation",
   "metadata": {},
   "outputs": [
    {
     "name": "stdout",
     "output_type": "stream",
     "text": [
      "45\n"
     ]
    }
   ],
   "source": [
    "print(i)"
   ]
  },
  {
   "cell_type": "markdown",
   "id": "lucky-background",
   "metadata": {},
   "source": [
    "# Welcome to Numpy Tutorials"
   ]
  },
  {
   "cell_type": "code",
   "execution_count": 6,
   "id": "ranging-speaker",
   "metadata": {},
   "outputs": [],
   "source": [
    "d=78"
   ]
  },
  {
   "cell_type": "code",
   "execution_count": 7,
   "id": "loved-tribune",
   "metadata": {},
   "outputs": [
    {
     "data": {
      "text/plain": [
       "78"
      ]
     },
     "execution_count": 7,
     "metadata": {},
     "output_type": "execute_result"
    }
   ],
   "source": [
    "d"
   ]
  },
  {
   "cell_type": "markdown",
   "id": "accompanied-shower",
   "metadata": {},
   "source": [
    "***this***"
   ]
  },
  {
   "cell_type": "markdown",
   "id": "dramatic-messenger",
   "metadata": {},
   "source": [
    "# Numpy Tutorial"
   ]
  },
  {
   "cell_type": "code",
   "execution_count": 8,
   "id": "phantom-tower",
   "metadata": {},
   "outputs": [],
   "source": [
    "import numpy as np"
   ]
  },
  {
   "cell_type": "code",
   "execution_count": 9,
   "id": "collectible-notification",
   "metadata": {},
   "outputs": [],
   "source": [
    "myarr=np.arange(21)"
   ]
  },
  {
   "cell_type": "code",
   "execution_count": 10,
   "id": "developed-davis",
   "metadata": {},
   "outputs": [
    {
     "name": "stdout",
     "output_type": "stream",
     "text": [
      "[ 0  1  2  3  4  5  6  7  8  9 10 11 12 13 14 15 16 17 18 19 20]\n"
     ]
    }
   ],
   "source": [
    "print(myarr)"
   ]
  },
  {
   "cell_type": "code",
   "execution_count": 11,
   "id": "clean-suspect",
   "metadata": {},
   "outputs": [],
   "source": [
    "myar=np.array([3,6,684,7],np.int64)"
   ]
  },
  {
   "cell_type": "code",
   "execution_count": 12,
   "id": "bored-following",
   "metadata": {},
   "outputs": [
    {
     "data": {
      "text/plain": [
       "6"
      ]
     },
     "execution_count": 12,
     "metadata": {},
     "output_type": "execute_result"
    }
   ],
   "source": [
    "myar[1]"
   ]
  },
  {
   "cell_type": "code",
   "execution_count": 13,
   "id": "republican-success",
   "metadata": {},
   "outputs": [],
   "source": [
    "myar=np.array([[3,6,684,7],[2,4,5,8]],np.int64)"
   ]
  },
  {
   "cell_type": "code",
   "execution_count": 14,
   "id": "taken-gardening",
   "metadata": {},
   "outputs": [
    {
     "data": {
      "text/plain": [
       "684"
      ]
     },
     "execution_count": 14,
     "metadata": {},
     "output_type": "execute_result"
    }
   ],
   "source": [
    "myar[0,2]"
   ]
  },
  {
   "cell_type": "code",
   "execution_count": 15,
   "id": "unusual-going",
   "metadata": {},
   "outputs": [
    {
     "data": {
      "text/plain": [
       "(2, 4)"
      ]
     },
     "execution_count": 15,
     "metadata": {},
     "output_type": "execute_result"
    }
   ],
   "source": [
    "myar.shape"
   ]
  },
  {
   "cell_type": "code",
   "execution_count": 16,
   "id": "objective-wealth",
   "metadata": {},
   "outputs": [
    {
     "data": {
      "text/plain": [
       "dtype('int64')"
      ]
     },
     "execution_count": 16,
     "metadata": {},
     "output_type": "execute_result"
    }
   ],
   "source": [
    "myar.dtype"
   ]
  },
  {
   "cell_type": "code",
   "execution_count": 17,
   "id": "promising-english",
   "metadata": {},
   "outputs": [],
   "source": [
    "myar[0,2]=64"
   ]
  },
  {
   "cell_type": "code",
   "execution_count": 18,
   "id": "disabled-millennium",
   "metadata": {},
   "outputs": [
    {
     "data": {
      "text/plain": [
       "array([[ 3,  6, 64,  7],\n",
       "       [ 2,  4,  5,  8]], dtype=int64)"
      ]
     },
     "execution_count": 18,
     "metadata": {},
     "output_type": "execute_result"
    }
   ],
   "source": [
    "myar"
   ]
  },
  {
   "cell_type": "code",
   "execution_count": 19,
   "id": "guilty-volleyball",
   "metadata": {},
   "outputs": [
    {
     "data": {
      "text/plain": [
       "64"
      ]
     },
     "execution_count": 19,
     "metadata": {},
     "output_type": "execute_result"
    }
   ],
   "source": [
    "myar[0,2]"
   ]
  },
  {
   "cell_type": "markdown",
   "id": "sixth-speed",
   "metadata": {},
   "source": [
    "# There are five different types for create array in numpy"
   ]
  },
  {
   "cell_type": "markdown",
   "id": "superb-melissa",
   "metadata": {},
   "source": [
    "# ***1) Array creation conversion from other python structure"
   ]
  },
  {
   "cell_type": "code",
   "execution_count": 20,
   "id": "powered-algorithm",
   "metadata": {},
   "outputs": [],
   "source": [
    "myarray=np.array([[1,2,3],[4,5,6],[7,8,9]])"
   ]
  },
  {
   "cell_type": "code",
   "execution_count": 21,
   "id": "lasting-nashville",
   "metadata": {},
   "outputs": [
    {
     "data": {
      "text/plain": [
       "array([[1, 2, 3],\n",
       "       [4, 5, 6],\n",
       "       [7, 8, 9]])"
      ]
     },
     "execution_count": 21,
     "metadata": {},
     "output_type": "execute_result"
    }
   ],
   "source": [
    "myarray"
   ]
  },
  {
   "cell_type": "code",
   "execution_count": 22,
   "id": "nuclear-passion",
   "metadata": {},
   "outputs": [
    {
     "data": {
      "text/plain": [
       "dtype('int32')"
      ]
     },
     "execution_count": 22,
     "metadata": {},
     "output_type": "execute_result"
    }
   ],
   "source": [
    "myarray.dtype"
   ]
  },
  {
   "cell_type": "code",
   "execution_count": 23,
   "id": "wooden-barrier",
   "metadata": {},
   "outputs": [
    {
     "data": {
      "text/plain": [
       "(3, 3)"
      ]
     },
     "execution_count": 23,
     "metadata": {},
     "output_type": "execute_result"
    }
   ],
   "source": [
    "myarray.shape"
   ]
  },
  {
   "cell_type": "code",
   "execution_count": 24,
   "id": "together-census",
   "metadata": {},
   "outputs": [
    {
     "data": {
      "text/plain": [
       "9"
      ]
     },
     "execution_count": 24,
     "metadata": {},
     "output_type": "execute_result"
    }
   ],
   "source": [
    "myarray.size"
   ]
  },
  {
   "cell_type": "code",
   "execution_count": 25,
   "id": "corresponding-waterproof",
   "metadata": {},
   "outputs": [
    {
     "data": {
      "text/plain": [
       "array({65, 34, 43, 25}, dtype=object)"
      ]
     },
     "execution_count": 25,
     "metadata": {},
     "output_type": "execute_result"
    }
   ],
   "source": [
    "np.array({34,25,65,25,43,34})"
   ]
  },
  {
   "cell_type": "markdown",
   "id": "horizontal-librarian",
   "metadata": {},
   "source": [
    "# *** 2)Intrinsic numpy array creation objects"
   ]
  },
  {
   "cell_type": "code",
   "execution_count": 26,
   "id": "ordinary-father",
   "metadata": {},
   "outputs": [],
   "source": [
    "zeros=np.zeros((3,5))"
   ]
  },
  {
   "cell_type": "code",
   "execution_count": 27,
   "id": "civilian-willow",
   "metadata": {},
   "outputs": [
    {
     "data": {
      "text/plain": [
       "array([[0., 0., 0., 0., 0.],\n",
       "       [0., 0., 0., 0., 0.],\n",
       "       [0., 0., 0., 0., 0.]])"
      ]
     },
     "execution_count": 27,
     "metadata": {},
     "output_type": "execute_result"
    }
   ],
   "source": [
    "zeros"
   ]
  },
  {
   "cell_type": "code",
   "execution_count": 28,
   "id": "sitting-humidity",
   "metadata": {},
   "outputs": [
    {
     "data": {
      "text/plain": [
       "(3, 5)"
      ]
     },
     "execution_count": 28,
     "metadata": {},
     "output_type": "execute_result"
    }
   ],
   "source": [
    "zeros.shape"
   ]
  },
  {
   "cell_type": "code",
   "execution_count": 29,
   "id": "spatial-peripheral",
   "metadata": {},
   "outputs": [
    {
     "data": {
      "text/plain": [
       "15"
      ]
     },
     "execution_count": 29,
     "metadata": {},
     "output_type": "execute_result"
    }
   ],
   "source": [
    "zeros.size"
   ]
  },
  {
   "cell_type": "code",
   "execution_count": 30,
   "id": "hairy-denial",
   "metadata": {},
   "outputs": [],
   "source": [
    "rng=np.arange(21)"
   ]
  },
  {
   "cell_type": "code",
   "execution_count": 31,
   "id": "hungarian-somalia",
   "metadata": {},
   "outputs": [
    {
     "data": {
      "text/plain": [
       "array([ 0,  1,  2,  3,  4,  5,  6,  7,  8,  9, 10, 11, 12, 13, 14, 15, 16,\n",
       "       17, 18, 19, 20])"
      ]
     },
     "execution_count": 31,
     "metadata": {},
     "output_type": "execute_result"
    }
   ],
   "source": [
    "rng"
   ]
  },
  {
   "cell_type": "code",
   "execution_count": 32,
   "id": "operational-bronze",
   "metadata": {},
   "outputs": [],
   "source": [
    "lspace=np.linspace(1,50,11)"
   ]
  },
  {
   "cell_type": "code",
   "execution_count": 33,
   "id": "sustained-dependence",
   "metadata": {},
   "outputs": [
    {
     "data": {
      "text/plain": [
       "array([ 1. ,  5.9, 10.8, 15.7, 20.6, 25.5, 30.4, 35.3, 40.2, 45.1, 50. ])"
      ]
     },
     "execution_count": 33,
     "metadata": {},
     "output_type": "execute_result"
    }
   ],
   "source": [
    "lspace"
   ]
  },
  {
   "cell_type": "code",
   "execution_count": 34,
   "id": "inappropriate-video",
   "metadata": {},
   "outputs": [],
   "source": [
    "lspace=np.linspace(1,5,4)"
   ]
  },
  {
   "cell_type": "code",
   "execution_count": 35,
   "id": "figured-belly",
   "metadata": {},
   "outputs": [
    {
     "data": {
      "text/plain": [
       "array([1.        , 2.33333333, 3.66666667, 5.        ])"
      ]
     },
     "execution_count": 35,
     "metadata": {},
     "output_type": "execute_result"
    }
   ],
   "source": [
    "lspace"
   ]
  },
  {
   "cell_type": "code",
   "execution_count": 36,
   "id": "prospective-medicaid",
   "metadata": {},
   "outputs": [],
   "source": [
    "emp=np.empty((4,6))"
   ]
  },
  {
   "cell_type": "code",
   "execution_count": 37,
   "id": "presidential-california",
   "metadata": {},
   "outputs": [
    {
     "data": {
      "text/plain": [
       "array([[6.23042070e-307, 1.42417221e-306, 1.37961641e-306,\n",
       "        2.22522597e-306, 1.33511969e-306, 1.24610383e-306],\n",
       "       [1.69118108e-306, 8.06632139e-308, 1.20160711e-306,\n",
       "        1.69119330e-306, 1.29062229e-306, 1.60217812e-306],\n",
       "       [1.37961370e-306, 8.01091099e-307, 8.90104239e-307,\n",
       "        1.11260144e-306, 1.02360256e-306, 8.34451504e-308],\n",
       "       [1.39071445e-307, 1.33511562e-306, 8.90103560e-307,\n",
       "        1.42410974e-306, 1.00132228e-307, 1.33511969e-306]])"
      ]
     },
     "execution_count": 37,
     "metadata": {},
     "output_type": "execute_result"
    }
   ],
   "source": [
    "emp"
   ]
  },
  {
   "cell_type": "code",
   "execution_count": 38,
   "id": "natural-railway",
   "metadata": {},
   "outputs": [],
   "source": [
    "emp_like=np.empty_like(lspace)"
   ]
  },
  {
   "cell_type": "code",
   "execution_count": 39,
   "id": "serious-fireplace",
   "metadata": {},
   "outputs": [
    {
     "data": {
      "text/plain": [
       "array([1.        , 2.33333333, 3.66666667, 5.        ])"
      ]
     },
     "execution_count": 39,
     "metadata": {},
     "output_type": "execute_result"
    }
   ],
   "source": [
    "emp_like"
   ]
  },
  {
   "cell_type": "code",
   "execution_count": 40,
   "id": "rural-judgment",
   "metadata": {},
   "outputs": [],
   "source": [
    "ide=np.identity(4)"
   ]
  },
  {
   "cell_type": "code",
   "execution_count": 41,
   "id": "becoming-latin",
   "metadata": {},
   "outputs": [
    {
     "data": {
      "text/plain": [
       "array([[1., 0., 0., 0.],\n",
       "       [0., 1., 0., 0.],\n",
       "       [0., 0., 1., 0.],\n",
       "       [0., 0., 0., 1.]])"
      ]
     },
     "execution_count": 41,
     "metadata": {},
     "output_type": "execute_result"
    }
   ],
   "source": [
    "ide"
   ]
  },
  {
   "cell_type": "code",
   "execution_count": 42,
   "id": "destroyed-recipient",
   "metadata": {},
   "outputs": [
    {
     "data": {
      "text/plain": [
       "(4, 4)"
      ]
     },
     "execution_count": 42,
     "metadata": {},
     "output_type": "execute_result"
    }
   ],
   "source": [
    "ide.shape"
   ]
  },
  {
   "cell_type": "code",
   "execution_count": 43,
   "id": "respective-glasgow",
   "metadata": {},
   "outputs": [],
   "source": [
    "arr=np.arange(101)"
   ]
  },
  {
   "cell_type": "code",
   "execution_count": 44,
   "id": "green-technology",
   "metadata": {},
   "outputs": [
    {
     "data": {
      "text/plain": [
       "array([  0,   1,   2,   3,   4,   5,   6,   7,   8,   9,  10,  11,  12,\n",
       "        13,  14,  15,  16,  17,  18,  19,  20,  21,  22,  23,  24,  25,\n",
       "        26,  27,  28,  29,  30,  31,  32,  33,  34,  35,  36,  37,  38,\n",
       "        39,  40,  41,  42,  43,  44,  45,  46,  47,  48,  49,  50,  51,\n",
       "        52,  53,  54,  55,  56,  57,  58,  59,  60,  61,  62,  63,  64,\n",
       "        65,  66,  67,  68,  69,  70,  71,  72,  73,  74,  75,  76,  77,\n",
       "        78,  79,  80,  81,  82,  83,  84,  85,  86,  87,  88,  89,  90,\n",
       "        91,  92,  93,  94,  95,  96,  97,  98,  99, 100])"
      ]
     },
     "execution_count": 44,
     "metadata": {},
     "output_type": "execute_result"
    }
   ],
   "source": [
    "arr"
   ]
  },
  {
   "cell_type": "code",
   "execution_count": 45,
   "id": "dimensional-technique",
   "metadata": {},
   "outputs": [],
   "source": [
    "arr=np.arange(99)"
   ]
  },
  {
   "cell_type": "code",
   "execution_count": 46,
   "id": "steady-florida",
   "metadata": {},
   "outputs": [
    {
     "data": {
      "text/plain": [
       "array([ 0,  1,  2,  3,  4,  5,  6,  7,  8,  9, 10, 11, 12, 13, 14, 15, 16,\n",
       "       17, 18, 19, 20, 21, 22, 23, 24, 25, 26, 27, 28, 29, 30, 31, 32, 33,\n",
       "       34, 35, 36, 37, 38, 39, 40, 41, 42, 43, 44, 45, 46, 47, 48, 49, 50,\n",
       "       51, 52, 53, 54, 55, 56, 57, 58, 59, 60, 61, 62, 63, 64, 65, 66, 67,\n",
       "       68, 69, 70, 71, 72, 73, 74, 75, 76, 77, 78, 79, 80, 81, 82, 83, 84,\n",
       "       85, 86, 87, 88, 89, 90, 91, 92, 93, 94, 95, 96, 97, 98])"
      ]
     },
     "execution_count": 46,
     "metadata": {},
     "output_type": "execute_result"
    }
   ],
   "source": [
    "arr"
   ]
  },
  {
   "cell_type": "code",
   "execution_count": 47,
   "id": "bacterial-navigator",
   "metadata": {},
   "outputs": [
    {
     "data": {
      "text/plain": [
       "array([[ 0,  1,  2,  3,  4,  5,  6,  7,  8,  9, 10, 11, 12, 13, 14, 15,\n",
       "        16, 17, 18, 19, 20, 21, 22, 23, 24, 25, 26, 27, 28, 29, 30, 31,\n",
       "        32],\n",
       "       [33, 34, 35, 36, 37, 38, 39, 40, 41, 42, 43, 44, 45, 46, 47, 48,\n",
       "        49, 50, 51, 52, 53, 54, 55, 56, 57, 58, 59, 60, 61, 62, 63, 64,\n",
       "        65],\n",
       "       [66, 67, 68, 69, 70, 71, 72, 73, 74, 75, 76, 77, 78, 79, 80, 81,\n",
       "        82, 83, 84, 85, 86, 87, 88, 89, 90, 91, 92, 93, 94, 95, 96, 97,\n",
       "        98]])"
      ]
     },
     "execution_count": 47,
     "metadata": {},
     "output_type": "execute_result"
    }
   ],
   "source": [
    "arr.reshape(3,33)"
   ]
  },
  {
   "cell_type": "code",
   "execution_count": 48,
   "id": "joint-hazard",
   "metadata": {},
   "outputs": [],
   "source": [
    "arr=arr.reshape(33,3)"
   ]
  },
  {
   "cell_type": "code",
   "execution_count": 49,
   "id": "angry-roads",
   "metadata": {},
   "outputs": [
    {
     "data": {
      "text/plain": [
       "array([[ 0,  1,  2],\n",
       "       [ 3,  4,  5],\n",
       "       [ 6,  7,  8],\n",
       "       [ 9, 10, 11],\n",
       "       [12, 13, 14],\n",
       "       [15, 16, 17],\n",
       "       [18, 19, 20],\n",
       "       [21, 22, 23],\n",
       "       [24, 25, 26],\n",
       "       [27, 28, 29],\n",
       "       [30, 31, 32],\n",
       "       [33, 34, 35],\n",
       "       [36, 37, 38],\n",
       "       [39, 40, 41],\n",
       "       [42, 43, 44],\n",
       "       [45, 46, 47],\n",
       "       [48, 49, 50],\n",
       "       [51, 52, 53],\n",
       "       [54, 55, 56],\n",
       "       [57, 58, 59],\n",
       "       [60, 61, 62],\n",
       "       [63, 64, 65],\n",
       "       [66, 67, 68],\n",
       "       [69, 70, 71],\n",
       "       [72, 73, 74],\n",
       "       [75, 76, 77],\n",
       "       [78, 79, 80],\n",
       "       [81, 82, 83],\n",
       "       [84, 85, 86],\n",
       "       [87, 88, 89],\n",
       "       [90, 91, 92],\n",
       "       [93, 94, 95],\n",
       "       [96, 97, 98]])"
      ]
     },
     "execution_count": 49,
     "metadata": {},
     "output_type": "execute_result"
    }
   ],
   "source": [
    "arr"
   ]
  },
  {
   "cell_type": "code",
   "execution_count": 50,
   "id": "affected-handbook",
   "metadata": {},
   "outputs": [],
   "source": [
    "arr=arr.reshape(33,3)"
   ]
  },
  {
   "cell_type": "code",
   "execution_count": 51,
   "id": "measured-athletics",
   "metadata": {},
   "outputs": [
    {
     "data": {
      "text/plain": [
       "array([[ 0,  1,  2],\n",
       "       [ 3,  4,  5],\n",
       "       [ 6,  7,  8],\n",
       "       [ 9, 10, 11],\n",
       "       [12, 13, 14],\n",
       "       [15, 16, 17],\n",
       "       [18, 19, 20],\n",
       "       [21, 22, 23],\n",
       "       [24, 25, 26],\n",
       "       [27, 28, 29],\n",
       "       [30, 31, 32],\n",
       "       [33, 34, 35],\n",
       "       [36, 37, 38],\n",
       "       [39, 40, 41],\n",
       "       [42, 43, 44],\n",
       "       [45, 46, 47],\n",
       "       [48, 49, 50],\n",
       "       [51, 52, 53],\n",
       "       [54, 55, 56],\n",
       "       [57, 58, 59],\n",
       "       [60, 61, 62],\n",
       "       [63, 64, 65],\n",
       "       [66, 67, 68],\n",
       "       [69, 70, 71],\n",
       "       [72, 73, 74],\n",
       "       [75, 76, 77],\n",
       "       [78, 79, 80],\n",
       "       [81, 82, 83],\n",
       "       [84, 85, 86],\n",
       "       [87, 88, 89],\n",
       "       [90, 91, 92],\n",
       "       [93, 94, 95],\n",
       "       [96, 97, 98]])"
      ]
     },
     "execution_count": 51,
     "metadata": {},
     "output_type": "execute_result"
    }
   ],
   "source": [
    "arr"
   ]
  },
  {
   "cell_type": "code",
   "execution_count": 52,
   "id": "formal-organization",
   "metadata": {},
   "outputs": [],
   "source": [
    "arr=arr.ravel()"
   ]
  },
  {
   "cell_type": "code",
   "execution_count": 53,
   "id": "dying-shoulder",
   "metadata": {},
   "outputs": [
    {
     "data": {
      "text/plain": [
       "array([ 0,  1,  2,  3,  4,  5,  6,  7,  8,  9, 10, 11, 12, 13, 14, 15, 16,\n",
       "       17, 18, 19, 20, 21, 22, 23, 24, 25, 26, 27, 28, 29, 30, 31, 32, 33,\n",
       "       34, 35, 36, 37, 38, 39, 40, 41, 42, 43, 44, 45, 46, 47, 48, 49, 50,\n",
       "       51, 52, 53, 54, 55, 56, 57, 58, 59, 60, 61, 62, 63, 64, 65, 66, 67,\n",
       "       68, 69, 70, 71, 72, 73, 74, 75, 76, 77, 78, 79, 80, 81, 82, 83, 84,\n",
       "       85, 86, 87, 88, 89, 90, 91, 92, 93, 94, 95, 96, 97, 98])"
      ]
     },
     "execution_count": 53,
     "metadata": {},
     "output_type": "execute_result"
    }
   ],
   "source": [
    "arr"
   ]
  },
  {
   "cell_type": "code",
   "execution_count": 54,
   "id": "threatened-patrick",
   "metadata": {},
   "outputs": [
    {
     "data": {
      "text/plain": [
       "(99,)"
      ]
     },
     "execution_count": 54,
     "metadata": {},
     "output_type": "execute_result"
    }
   ],
   "source": [
    "arr.shape"
   ]
  },
  {
   "cell_type": "code",
   "execution_count": 55,
   "id": "aggressive-purpose",
   "metadata": {},
   "outputs": [],
   "source": [
    "x=[[1,2,3],[7,8,9]]\n"
   ]
  },
  {
   "cell_type": "code",
   "execution_count": 56,
   "id": "adult-insulation",
   "metadata": {},
   "outputs": [],
   "source": [
    "ar=np.array(x)"
   ]
  },
  {
   "cell_type": "code",
   "execution_count": 57,
   "id": "together-scratch",
   "metadata": {},
   "outputs": [
    {
     "data": {
      "text/plain": [
       "array([[1, 2, 3],\n",
       "       [7, 8, 9]])"
      ]
     },
     "execution_count": 57,
     "metadata": {},
     "output_type": "execute_result"
    }
   ],
   "source": [
    "ar"
   ]
  },
  {
   "cell_type": "code",
   "execution_count": 58,
   "id": "numerous-creek",
   "metadata": {},
   "outputs": [],
   "source": [
    "a=ar.sum(axis=0)"
   ]
  },
  {
   "cell_type": "code",
   "execution_count": 59,
   "id": "joint-objective",
   "metadata": {},
   "outputs": [
    {
     "data": {
      "text/plain": [
       "array([ 8, 10, 12])"
      ]
     },
     "execution_count": 59,
     "metadata": {},
     "output_type": "execute_result"
    }
   ],
   "source": [
    "a"
   ]
  },
  {
   "cell_type": "code",
   "execution_count": 60,
   "id": "committed-woman",
   "metadata": {},
   "outputs": [],
   "source": [
    "b=ar.sum(axis=1)"
   ]
  },
  {
   "cell_type": "code",
   "execution_count": 61,
   "id": "fifteen-silicon",
   "metadata": {},
   "outputs": [
    {
     "data": {
      "text/plain": [
       "array([ 6, 24])"
      ]
     },
     "execution_count": 61,
     "metadata": {},
     "output_type": "execute_result"
    }
   ],
   "source": [
    "b"
   ]
  },
  {
   "cell_type": "code",
   "execution_count": 62,
   "id": "mobile-speed",
   "metadata": {},
   "outputs": [
    {
     "data": {
      "text/plain": [
       "array([ 8, 10, 12])"
      ]
     },
     "execution_count": 62,
     "metadata": {},
     "output_type": "execute_result"
    }
   ],
   "source": [
    "a.T\n"
   ]
  },
  {
   "cell_type": "code",
   "execution_count": 63,
   "id": "statistical-blend",
   "metadata": {},
   "outputs": [
    {
     "data": {
      "text/plain": [
       "array([[1, 7],\n",
       "       [2, 8],\n",
       "       [3, 9]])"
      ]
     },
     "execution_count": 63,
     "metadata": {},
     "output_type": "execute_result"
    }
   ],
   "source": [
    "ar.T"
   ]
  },
  {
   "cell_type": "code",
   "execution_count": 64,
   "id": "aware-technician",
   "metadata": {},
   "outputs": [],
   "source": [
    "ar=ar.T"
   ]
  },
  {
   "cell_type": "code",
   "execution_count": 65,
   "id": "divine-exercise",
   "metadata": {},
   "outputs": [
    {
     "data": {
      "text/plain": [
       "array([[1, 7],\n",
       "       [2, 8],\n",
       "       [3, 9]])"
      ]
     },
     "execution_count": 65,
     "metadata": {},
     "output_type": "execute_result"
    }
   ],
   "source": [
    "ar"
   ]
  },
  {
   "cell_type": "code",
   "execution_count": 66,
   "id": "closing-officer",
   "metadata": {},
   "outputs": [],
   "source": [
    "ar=ar.T"
   ]
  },
  {
   "cell_type": "code",
   "execution_count": 67,
   "id": "romantic-voice",
   "metadata": {},
   "outputs": [
    {
     "data": {
      "text/plain": [
       "array([[1, 2, 3],\n",
       "       [7, 8, 9]])"
      ]
     },
     "execution_count": 67,
     "metadata": {},
     "output_type": "execute_result"
    }
   ],
   "source": [
    "ar"
   ]
  },
  {
   "cell_type": "code",
   "execution_count": 68,
   "id": "vulnerable-parcel",
   "metadata": {},
   "outputs": [
    {
     "data": {
      "text/plain": [
       "<numpy.flatiter at 0x241f8c42a20>"
      ]
     },
     "execution_count": 68,
     "metadata": {},
     "output_type": "execute_result"
    }
   ],
   "source": [
    "ar.flat"
   ]
  },
  {
   "cell_type": "code",
   "execution_count": 69,
   "id": "traditional-southeast",
   "metadata": {},
   "outputs": [
    {
     "name": "stdout",
     "output_type": "stream",
     "text": [
      "1\n",
      "2\n",
      "3\n",
      "7\n",
      "8\n",
      "9\n"
     ]
    }
   ],
   "source": [
    "for i in ar.flat:\n",
    "    print(i)"
   ]
  },
  {
   "cell_type": "code",
   "execution_count": 70,
   "id": "remarkable-columbia",
   "metadata": {},
   "outputs": [
    {
     "data": {
      "text/plain": [
       "2"
      ]
     },
     "execution_count": 70,
     "metadata": {},
     "output_type": "execute_result"
    }
   ],
   "source": [
    "ar.ndim"
   ]
  },
  {
   "cell_type": "code",
   "execution_count": 71,
   "id": "twelve-panic",
   "metadata": {},
   "outputs": [],
   "source": [
    "ar=ar.T\n"
   ]
  },
  {
   "cell_type": "code",
   "execution_count": 72,
   "id": "powered-rescue",
   "metadata": {},
   "outputs": [
    {
     "data": {
      "text/plain": [
       "array([[1, 7],\n",
       "       [2, 8],\n",
       "       [3, 9]])"
      ]
     },
     "execution_count": 72,
     "metadata": {},
     "output_type": "execute_result"
    }
   ],
   "source": [
    "ar"
   ]
  },
  {
   "cell_type": "code",
   "execution_count": 73,
   "id": "introductory-assurance",
   "metadata": {},
   "outputs": [
    {
     "data": {
      "text/plain": [
       "array([[1, 7],\n",
       "       [2, 8],\n",
       "       [3, 9]])"
      ]
     },
     "execution_count": 73,
     "metadata": {},
     "output_type": "execute_result"
    }
   ],
   "source": [
    "ar"
   ]
  },
  {
   "cell_type": "code",
   "execution_count": 74,
   "id": "affiliated-auckland",
   "metadata": {},
   "outputs": [
    {
     "data": {
      "text/plain": [
       "2"
      ]
     },
     "execution_count": 74,
     "metadata": {},
     "output_type": "execute_result"
    }
   ],
   "source": [
    "ar.ndim"
   ]
  },
  {
   "cell_type": "code",
   "execution_count": 75,
   "id": "colonial-volume",
   "metadata": {},
   "outputs": [
    {
     "data": {
      "text/plain": [
       "6"
      ]
     },
     "execution_count": 75,
     "metadata": {},
     "output_type": "execute_result"
    }
   ],
   "source": [
    "ar.size"
   ]
  },
  {
   "cell_type": "code",
   "execution_count": 76,
   "id": "administrative-peoples",
   "metadata": {},
   "outputs": [
    {
     "data": {
      "text/plain": [
       "24"
      ]
     },
     "execution_count": 76,
     "metadata": {},
     "output_type": "execute_result"
    }
   ],
   "source": [
    "ar.nbytes"
   ]
  },
  {
   "cell_type": "code",
   "execution_count": 77,
   "id": "emotional-symphony",
   "metadata": {},
   "outputs": [
    {
     "data": {
      "text/plain": [
       "dtype('int32')"
      ]
     },
     "execution_count": 77,
     "metadata": {},
     "output_type": "execute_result"
    }
   ],
   "source": [
    "ar.dtype"
   ]
  },
  {
   "cell_type": "code",
   "execution_count": 78,
   "id": "final-massachusetts",
   "metadata": {},
   "outputs": [],
   "source": [
    "one=np.array([1,2,3,4,5,6,87,57,48,98,27,45])"
   ]
  },
  {
   "cell_type": "code",
   "execution_count": 79,
   "id": "national-bhutan",
   "metadata": {},
   "outputs": [
    {
     "data": {
      "text/plain": [
       "9"
      ]
     },
     "execution_count": 79,
     "metadata": {},
     "output_type": "execute_result"
    }
   ],
   "source": [
    "one.argmax()"
   ]
  },
  {
   "cell_type": "code",
   "execution_count": 80,
   "id": "digital-persian",
   "metadata": {},
   "outputs": [
    {
     "data": {
      "text/plain": [
       "98"
      ]
     },
     "execution_count": 80,
     "metadata": {},
     "output_type": "execute_result"
    }
   ],
   "source": [
    "one[9]"
   ]
  },
  {
   "cell_type": "code",
   "execution_count": 81,
   "id": "median-shadow",
   "metadata": {},
   "outputs": [
    {
     "data": {
      "text/plain": [
       "0"
      ]
     },
     "execution_count": 81,
     "metadata": {},
     "output_type": "execute_result"
    }
   ],
   "source": [
    "one.argmin()"
   ]
  },
  {
   "cell_type": "code",
   "execution_count": 82,
   "id": "numeric-hollow",
   "metadata": {},
   "outputs": [
    {
     "data": {
      "text/plain": [
       "array([ 0,  1,  2,  3,  4,  5, 10, 11,  8,  7,  6,  9], dtype=int64)"
      ]
     },
     "execution_count": 82,
     "metadata": {},
     "output_type": "execute_result"
    }
   ],
   "source": [
    "one.argsort()"
   ]
  },
  {
   "cell_type": "code",
   "execution_count": 83,
   "id": "differential-museum",
   "metadata": {},
   "outputs": [
    {
     "data": {
      "text/plain": [
       "array([[1, 7],\n",
       "       [2, 8],\n",
       "       [3, 9]])"
      ]
     },
     "execution_count": 83,
     "metadata": {},
     "output_type": "execute_result"
    }
   ],
   "source": [
    "ar"
   ]
  },
  {
   "cell_type": "code",
   "execution_count": 84,
   "id": "technical-reverse",
   "metadata": {},
   "outputs": [
    {
     "data": {
      "text/plain": [
       "0"
      ]
     },
     "execution_count": 84,
     "metadata": {},
     "output_type": "execute_result"
    }
   ],
   "source": [
    "ar.argmin()"
   ]
  },
  {
   "cell_type": "code",
   "execution_count": 85,
   "id": "taken-glory",
   "metadata": {},
   "outputs": [
    {
     "data": {
      "text/plain": [
       "5"
      ]
     },
     "execution_count": 85,
     "metadata": {},
     "output_type": "execute_result"
    }
   ],
   "source": [
    "ar.argmax()"
   ]
  },
  {
   "cell_type": "code",
   "execution_count": 86,
   "id": "disturbed-drill",
   "metadata": {},
   "outputs": [
    {
     "data": {
      "text/plain": [
       "array([2, 2], dtype=int64)"
      ]
     },
     "execution_count": 86,
     "metadata": {},
     "output_type": "execute_result"
    }
   ],
   "source": [
    "ar.argmax(axis=0)"
   ]
  },
  {
   "cell_type": "code",
   "execution_count": 87,
   "id": "approved-transformation",
   "metadata": {},
   "outputs": [],
   "source": [
    "ar[1,0]=45"
   ]
  },
  {
   "cell_type": "code",
   "execution_count": 88,
   "id": "pending-holmes",
   "metadata": {},
   "outputs": [
    {
     "data": {
      "text/plain": [
       "array([[ 1,  7],\n",
       "       [45,  8],\n",
       "       [ 3,  9]])"
      ]
     },
     "execution_count": 88,
     "metadata": {},
     "output_type": "execute_result"
    }
   ],
   "source": [
    "ar"
   ]
  },
  {
   "cell_type": "code",
   "execution_count": 89,
   "id": "verified-porter",
   "metadata": {},
   "outputs": [
    {
     "data": {
      "text/plain": [
       "array([1, 2], dtype=int64)"
      ]
     },
     "execution_count": 89,
     "metadata": {},
     "output_type": "execute_result"
    }
   ],
   "source": [
    "ar.argmax(axis=0)"
   ]
  },
  {
   "cell_type": "code",
   "execution_count": 90,
   "id": "threaded-movie",
   "metadata": {},
   "outputs": [
    {
     "data": {
      "text/plain": [
       "array([0, 1, 0], dtype=int64)"
      ]
     },
     "execution_count": 90,
     "metadata": {},
     "output_type": "execute_result"
    }
   ],
   "source": [
    "ar.argmin(axis=1)"
   ]
  },
  {
   "cell_type": "code",
   "execution_count": 91,
   "id": "excited-literature",
   "metadata": {},
   "outputs": [
    {
     "data": {
      "text/plain": [
       "array([[0, 0],\n",
       "       [2, 1],\n",
       "       [1, 2]], dtype=int64)"
      ]
     },
     "execution_count": 91,
     "metadata": {},
     "output_type": "execute_result"
    }
   ],
   "source": [
    "ar.argsort(axis=0)"
   ]
  },
  {
   "cell_type": "code",
   "execution_count": 92,
   "id": "broke-operator",
   "metadata": {},
   "outputs": [
    {
     "data": {
      "text/plain": [
       "array([ 1,  7, 45,  8,  3,  9])"
      ]
     },
     "execution_count": 92,
     "metadata": {},
     "output_type": "execute_result"
    }
   ],
   "source": [
    "ar.ravel()"
   ]
  },
  {
   "cell_type": "code",
   "execution_count": 93,
   "id": "focal-standard",
   "metadata": {},
   "outputs": [
    {
     "data": {
      "text/plain": [
       "array([[ 1,  7],\n",
       "       [45,  8],\n",
       "       [ 3,  9]])"
      ]
     },
     "execution_count": 93,
     "metadata": {},
     "output_type": "execute_result"
    }
   ],
   "source": [
    "ar.reshape(3,2)"
   ]
  },
  {
   "cell_type": "code",
   "execution_count": 94,
   "id": "abroad-frank",
   "metadata": {},
   "outputs": [],
   "source": [
    "ar=ar.reshape(2,3)"
   ]
  },
  {
   "cell_type": "code",
   "execution_count": 95,
   "id": "introductory-quarter",
   "metadata": {},
   "outputs": [
    {
     "data": {
      "text/plain": [
       "array([[ 1,  7, 45],\n",
       "       [ 8,  3,  9]])"
      ]
     },
     "execution_count": 95,
     "metadata": {},
     "output_type": "execute_result"
    }
   ],
   "source": [
    "ar"
   ]
  },
  {
   "cell_type": "code",
   "execution_count": 96,
   "id": "loaded-letters",
   "metadata": {},
   "outputs": [],
   "source": [
    "br=np.array([4,5,6,8,1,2])"
   ]
  },
  {
   "cell_type": "code",
   "execution_count": 97,
   "id": "returning-silicon",
   "metadata": {},
   "outputs": [
    {
     "data": {
      "text/plain": [
       "array([4, 5, 6, 8, 1, 2])"
      ]
     },
     "execution_count": 97,
     "metadata": {},
     "output_type": "execute_result"
    }
   ],
   "source": [
    "br"
   ]
  },
  {
   "cell_type": "code",
   "execution_count": 98,
   "id": "living-failure",
   "metadata": {},
   "outputs": [],
   "source": [
    "br=br.reshape(2,3)"
   ]
  },
  {
   "cell_type": "code",
   "execution_count": 99,
   "id": "corporate-amazon",
   "metadata": {},
   "outputs": [
    {
     "data": {
      "text/plain": [
       "array([[ 1,  7, 45],\n",
       "       [ 8,  3,  9]])"
      ]
     },
     "execution_count": 99,
     "metadata": {},
     "output_type": "execute_result"
    }
   ],
   "source": [
    "ar"
   ]
  },
  {
   "cell_type": "code",
   "execution_count": 100,
   "id": "regional-venezuela",
   "metadata": {},
   "outputs": [
    {
     "data": {
      "text/plain": [
       "array([[4, 5, 6],\n",
       "       [8, 1, 2]])"
      ]
     },
     "execution_count": 100,
     "metadata": {},
     "output_type": "execute_result"
    }
   ],
   "source": [
    "br"
   ]
  },
  {
   "cell_type": "code",
   "execution_count": 101,
   "id": "public-backing",
   "metadata": {},
   "outputs": [
    {
     "data": {
      "text/plain": [
       "array([[ 5, 12, 51],\n",
       "       [16,  4, 11]])"
      ]
     },
     "execution_count": 101,
     "metadata": {},
     "output_type": "execute_result"
    }
   ],
   "source": [
    "ar+br"
   ]
  },
  {
   "cell_type": "code",
   "execution_count": 102,
   "id": "innocent-plenty",
   "metadata": {},
   "outputs": [
    {
     "data": {
      "text/plain": [
       "array([[  4,  35, 270],\n",
       "       [ 64,   3,  18]])"
      ]
     },
     "execution_count": 102,
     "metadata": {},
     "output_type": "execute_result"
    }
   ],
   "source": [
    "ar*br"
   ]
  },
  {
   "cell_type": "code",
   "execution_count": 103,
   "id": "forced-mattress",
   "metadata": {},
   "outputs": [
    {
     "data": {
      "text/plain": [
       "array([[1.        , 2.64575131, 6.70820393],\n",
       "       [2.82842712, 1.73205081, 3.        ]])"
      ]
     },
     "execution_count": 103,
     "metadata": {},
     "output_type": "execute_result"
    }
   ],
   "source": [
    "np.sqrt(ar)"
   ]
  },
  {
   "cell_type": "code",
   "execution_count": 104,
   "id": "irish-fifty",
   "metadata": {},
   "outputs": [
    {
     "data": {
      "text/plain": [
       "array([[2.        , 2.23606798, 2.44948974],\n",
       "       [2.82842712, 1.        , 1.41421356]])"
      ]
     },
     "execution_count": 104,
     "metadata": {},
     "output_type": "execute_result"
    }
   ],
   "source": [
    "np.sqrt(br)"
   ]
  },
  {
   "cell_type": "code",
   "execution_count": 105,
   "id": "median-vatican",
   "metadata": {},
   "outputs": [
    {
     "data": {
      "text/plain": [
       "73"
      ]
     },
     "execution_count": 105,
     "metadata": {},
     "output_type": "execute_result"
    }
   ],
   "source": [
    "ar.sum()"
   ]
  },
  {
   "cell_type": "code",
   "execution_count": 106,
   "id": "cellular-upgrade",
   "metadata": {},
   "outputs": [
    {
     "data": {
      "text/plain": [
       "array([ 9, 10, 54])"
      ]
     },
     "execution_count": 106,
     "metadata": {},
     "output_type": "execute_result"
    }
   ],
   "source": [
    "ar.sum(axis=0)"
   ]
  },
  {
   "cell_type": "code",
   "execution_count": 107,
   "id": "quick-provider",
   "metadata": {},
   "outputs": [
    {
     "data": {
      "text/plain": [
       "(array([0, 0, 1, 1], dtype=int64), array([1, 2, 0, 2], dtype=int64))"
      ]
     },
     "execution_count": 107,
     "metadata": {},
     "output_type": "execute_result"
    }
   ],
   "source": [
    "np.where(ar>5)"
   ]
  },
  {
   "cell_type": "code",
   "execution_count": 108,
   "id": "median-internship",
   "metadata": {},
   "outputs": [
    {
     "data": {
      "text/plain": [
       "6"
      ]
     },
     "execution_count": 108,
     "metadata": {},
     "output_type": "execute_result"
    }
   ],
   "source": [
    "np.count_nonzero(ar)"
   ]
  },
  {
   "cell_type": "code",
   "execution_count": 109,
   "id": "terminal-affair",
   "metadata": {},
   "outputs": [],
   "source": [
    "ar[0,0]=0"
   ]
  },
  {
   "cell_type": "code",
   "execution_count": 110,
   "id": "moved-cleveland",
   "metadata": {},
   "outputs": [],
   "source": [
    "ar[1,2]=0"
   ]
  },
  {
   "cell_type": "code",
   "execution_count": 111,
   "id": "universal-relations",
   "metadata": {},
   "outputs": [
    {
     "data": {
      "text/plain": [
       "array([[ 0,  7, 45],\n",
       "       [ 8,  3,  0]])"
      ]
     },
     "execution_count": 111,
     "metadata": {},
     "output_type": "execute_result"
    }
   ],
   "source": [
    "ar"
   ]
  },
  {
   "cell_type": "code",
   "execution_count": 112,
   "id": "suspended-cable",
   "metadata": {},
   "outputs": [
    {
     "data": {
      "text/plain": [
       "4"
      ]
     },
     "execution_count": 112,
     "metadata": {},
     "output_type": "execute_result"
    }
   ],
   "source": [
    "np.count_nonzero(ar)"
   ]
  },
  {
   "cell_type": "code",
   "execution_count": 113,
   "id": "forbidden-sending",
   "metadata": {},
   "outputs": [
    {
     "data": {
      "text/plain": [
       "6"
      ]
     },
     "execution_count": 113,
     "metadata": {},
     "output_type": "execute_result"
    }
   ],
   "source": [
    "ar.size"
   ]
  },
  {
   "cell_type": "code",
   "execution_count": 114,
   "id": "developing-dimension",
   "metadata": {},
   "outputs": [
    {
     "data": {
      "text/plain": [
       "2"
      ]
     },
     "execution_count": 114,
     "metadata": {},
     "output_type": "execute_result"
    }
   ],
   "source": [
    "ar.size-np.count_nonzero(ar)"
   ]
  },
  {
   "cell_type": "code",
   "execution_count": 115,
   "id": "differential-newsletter",
   "metadata": {},
   "outputs": [
    {
     "data": {
      "text/plain": [
       "(array([0, 0, 1, 1], dtype=int64), array([1, 2, 0, 1], dtype=int64))"
      ]
     },
     "execution_count": 115,
     "metadata": {},
     "output_type": "execute_result"
    }
   ],
   "source": [
    "np.nonzero(ar)"
   ]
  },
  {
   "cell_type": "code",
   "execution_count": 116,
   "id": "existing-lawsuit",
   "metadata": {},
   "outputs": [],
   "source": [
    "import sys"
   ]
  },
  {
   "cell_type": "code",
   "execution_count": 117,
   "id": "completed-tattoo",
   "metadata": {},
   "outputs": [],
   "source": [
    "py_ar=[0,4,55,2]"
   ]
  },
  {
   "cell_type": "code",
   "execution_count": 118,
   "id": "spoken-partner",
   "metadata": {},
   "outputs": [],
   "source": [
    "npar=np.array(py_ar)"
   ]
  },
  {
   "cell_type": "code",
   "execution_count": 119,
   "id": "fuzzy-fancy",
   "metadata": {},
   "outputs": [
    {
     "data": {
      "text/plain": [
       "array([ 0,  4, 55,  2])"
      ]
     },
     "execution_count": 119,
     "metadata": {},
     "output_type": "execute_result"
    }
   ],
   "source": [
    "npar"
   ]
  },
  {
   "cell_type": "code",
   "execution_count": 120,
   "id": "celtic-mentor",
   "metadata": {},
   "outputs": [
    {
     "data": {
      "text/plain": [
       "112"
      ]
     },
     "execution_count": 120,
     "metadata": {},
     "output_type": "execute_result"
    }
   ],
   "source": [
    "sys.getsizeof(1)*len(py_ar)"
   ]
  },
  {
   "cell_type": "code",
   "execution_count": 121,
   "id": "acoustic-teens",
   "metadata": {},
   "outputs": [
    {
     "data": {
      "text/plain": [
       "16"
      ]
     },
     "execution_count": 121,
     "metadata": {},
     "output_type": "execute_result"
    }
   ],
   "source": [
    "npar.itemsize*npar.size"
   ]
  },
  {
   "cell_type": "code",
   "execution_count": null,
   "id": "broad-folder",
   "metadata": {},
   "outputs": [],
   "source": []
  }
 ],
 "metadata": {
  "kernelspec": {
   "display_name": "Python 3",
   "language": "python",
   "name": "python3"
  },
  "language_info": {
   "codemirror_mode": {
    "name": "ipython",
    "version": 3
   },
   "file_extension": ".py",
   "mimetype": "text/x-python",
   "name": "python",
   "nbconvert_exporter": "python",
   "pygments_lexer": "ipython3",
   "version": "3.9.2"
  }
 },
 "nbformat": 4,
 "nbformat_minor": 5
}
